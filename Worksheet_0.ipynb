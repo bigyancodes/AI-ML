{
  "nbformat": 4,
  "nbformat_minor": 0,
  "metadata": {
    "colab": {
      "provenance": []
    },
    "kernelspec": {
      "name": "python3",
      "display_name": "Python 3"
    },
    "language_info": {
      "name": "python"
    }
  },
  "cells": [
    {
      "cell_type": "markdown",
      "source": [
        "Task - 1:\n",
        "Create a Python program that converts between different units of measurement.\n",
        "• The program should:\n",
        "1. Prompt the user to choose the type of conversion (e.g., length, weight, volume).\n",
        "2. Ask the user to input the value to be converted.\n",
        "3. Perform the conversion and display the result.\n",
        "4. Handle potential errors, such as invalid input or unsupported conversion types.\n",
        "• Requirements:\n",
        "1. Functions: Define at least one function to perform the conversion.\n",
        "2. Error Handling: Use try-except blocks to handle invalid input (e.g., non-numeric values).\n",
        "3. User Input: Prompt the user to select the conversion type and input the value.\n",
        "4. Docstrings: Include a docstring in your function to describe its purpose, parameters, and\n",
        "return value.\n",
        "• Conversion Options:\n",
        "1. Length:\n",
        "– Convert meters (m) to feet (ft).\n",
        "– Convert feet (ft) to meters (m).\n",
        "2. Weight:\n",
        "– Convert kilograms (kg) to pounds (lbs).\n",
        "– Convert pounds (lbs) to kilograms (kg).\n",
        "3. Volume:\n",
        "– Convert liters (L) to gallons (gal).\n",
        "– Convert gallons (gal) to liters (L).\n"
      ],
      "metadata": {
        "id": "bX0MoqMAORCg"
      }
    },
    {
      "cell_type": "code",
      "source": [
        "def convert_units():\n",
        "    print(\"Choose a conversion type:\")\n",
        "    print(\"1. Meters to Feet\")\n",
        "    print(\"2. Feet to Meters\")\n",
        "    print(\"3. Kilograms to Pounds\")\n",
        "    print(\"4. Pounds to Kilograms\")\n",
        "    print(\"5. Liters to Gallons\")\n",
        "    print(\"6. Gallons to Liters\")\n",
        "\n",
        "    try:\n",
        "        choice = int(input(\"Enter your choice (1-6): \"))\n",
        "        value = float(input(\"Enter the value to convert: \"))\n",
        "\n",
        "        if choice == 1:\n",
        "            result = value * 3.28084\n",
        "            print(f\"{value} meters is {result:.2f} feet.\")\n",
        "        elif choice == 2:\n",
        "            result = value / 3.28084\n",
        "            print(f\"{value} feet is {result:.2f} meters.\")\n",
        "        elif choice == 3:\n",
        "            result = value * 2.20462\n",
        "            print(f\"{value} kilograms is {result:.2f} pounds.\")\n",
        "        elif choice == 4:\n",
        "            result = value / 2.20462\n",
        "            print(f\"{value} pounds is {result:.2f} kilograms.\")\n",
        "        elif choice == 5:\n",
        "            result = value * 0.264172\n",
        "            print(f\"{value} liters is {result:.2f} gallons.\")\n",
        "        elif choice == 6:\n",
        "            result = value / 0.264172\n",
        "            print(f\"{value} gallons is {result:.2f} liters.\")\n",
        "        else:\n",
        "            print(\"Invalid choice. Please select a number from 1 to 6.\")\n",
        "    except ValueError:\n",
        "        print(\"Invalid input. Please enter a numeric value.\")\n",
        "\n",
        "if __name__ == \"__main__\":\n",
        "    convert_units()\n"
      ],
      "metadata": {
        "colab": {
          "base_uri": "https://localhost:8080/"
        },
        "id": "NGdvPZWhOT4A",
        "outputId": "9ed3d2c9-dc54-41fd-ba8a-8519c77e1b2a"
      },
      "execution_count": null,
      "outputs": [
        {
          "output_type": "stream",
          "name": "stdout",
          "text": [
            "Choose a conversion type:\n",
            "1. Meters to Feet\n",
            "2. Feet to Meters\n",
            "3. Kilograms to Pounds\n",
            "4. Pounds to Kilograms\n",
            "5. Liters to Gallons\n",
            "6. Gallons to Liters\n",
            "Enter your choice (1-6): 1\n",
            "Enter the value to convert: 500\n",
            "500.0 meters is 1640.42 feet.\n"
          ]
        }
      ]
    },
    {
      "cell_type": "markdown",
      "source": [
        "Task - 2:\n",
        "Create a Python program that performs various mathematical operations on a list of numbers.\n",
        "• The Program should:\n",
        "1. Prompt the user to choose an operation (e.g., find the sum, average, maximum, or minimum\n",
        "of the numbers).\n",
        "2. Ask the user to input a list of numbers (separated by spaces).\n",
        "\n",
        "3. Perform the selected operation and display the result.\n",
        "4. Handle potential errors, such as invalid input or empty lists.\n",
        "\n",
        "• Requirements:\n",
        "1. Functions: Define at least one function for each operation (sum, average, maximum, minimum).\n",
        "2. Error Handling: Use try-except blocks to handle invalid input (e.g., non-numeric values or\n",
        "empty lists).\n",
        "3. User Input: Prompt the user to select the operation and input the list of numbers.\n",
        "4. Docstrings: Include a docstring in each function to describe its purpose, parameters, and\n",
        "return value"
      ],
      "metadata": {
        "id": "2QkhJecVPCrv"
      }
    },
    {
      "cell_type": "code",
      "source": [
        "def find_sum(numbers: list[float]) -> float:\n",
        "    \"\"\"\n",
        "    Calculate the sum of a list of numbers.\n",
        "    :param numbers: list of floats\n",
        "    :return: float, sum of the numbers\n",
        "    \"\"\"\n",
        "    return sum(numbers)\n",
        "\n",
        "def find_average(numbers: list[float]) -> float:\n",
        "    \"\"\"\n",
        "    Calculate the average of a list of numbers.\n",
        "    :param numbers: list of floats\n",
        "    :return: float, average of the numbers\n",
        "    \"\"\"\n",
        "    return sum(numbers) / len(numbers) if numbers else 0\n",
        "\n",
        "def find_maximum(numbers: list[float]) -> float:\n",
        "    \"\"\"\n",
        "    Find the maximum value in a list of numbers.\n",
        "    :param numbers: list of floats\n",
        "    :return: float, maximum value\n",
        "    \"\"\"\n",
        "    return max(numbers)\n",
        "\n",
        "def find_minimum(numbers: list[float]) -> float:\n",
        "    \"\"\"\n",
        "    Find the minimum value in a list of numbers.\n",
        "    :param numbers: list of floats\n",
        "    :return: float, minimum value\n",
        "    \"\"\"\n",
        "    return min(numbers)\n",
        "\n",
        "def main():\n",
        "    \"\"\"\n",
        "    Prompt user for a list of numbers and perform selected mathematical operation.\n",
        "    \"\"\"\n",
        "    try:\n",
        "        print(\"Choose an operation:\")\n",
        "        print(\"1. Find Sum\")\n",
        "        print(\"2. Find Average\")\n",
        "        print(\"3. Find Maximum\")\n",
        "        print(\"4. Find Minimum\")\n",
        "\n",
        "        choice = int(input(\"Enter your choice (1-4): \"))\n",
        "        numbers = list(map(float, input(\"Enter a list of numbers separated by spaces: \").split()))\n",
        "\n",
        "        if not numbers:\n",
        "            print(\"Error: The list cannot be empty.\")\n",
        "            return\n",
        "\n",
        "        if choice == 1:\n",
        "            print(f\"Sum: {find_sum(numbers)}\")\n",
        "        elif choice == 2:\n",
        "            print(f\"Average: {find_average(numbers)}\")\n",
        "        elif choice == 3:\n",
        "            print(f\"Maximum: {find_maximum(numbers)}\")\n",
        "        elif choice == 4:\n",
        "            print(f\"Minimum: {find_minimum(numbers)}\")\n",
        "        else:\n",
        "            print(\"Invalid choice. Please select a valid option.\")\n",
        "    except ValueError:\n",
        "        print(\"Invalid input. Please enter numeric values only.\")\n",
        "\n",
        "if __name__ == \"__main__\":\n",
        "    main()\n"
      ],
      "metadata": {
        "colab": {
          "base_uri": "https://localhost:8080/"
        },
        "id": "5-uHmiLkPWFy",
        "outputId": "35a943b4-da93-438a-d7ce-15c665c936f5"
      },
      "execution_count": null,
      "outputs": [
        {
          "output_type": "stream",
          "name": "stdout",
          "text": [
            "Choose an operation:\n",
            "1. Find Sum\n",
            "2. Find Average\n",
            "3. Find Maximum\n",
            "4. Find Minimum\n",
            "Enter your choice (1-4): 3\n",
            "Enter a list of numbers separated by spaces: 44 35 99\n",
            "Maximum: 99.0\n"
          ]
        }
      ]
    },
    {
      "cell_type": "markdown",
      "source": [
        "4.2 Exercise on List Manipulation:\n",
        "1. Extract Every Other Element:\n",
        "Write a Python function that extracts every other element from a list, starting from the first element.\n",
        "\n",
        "• Requirements:\n",
        "– Define a function extract every other(lst) that takes a list lst as input and returns a\n",
        "new list containing every other element from the original list.\n",
        "– Example: For the input [1, 2, 3, 4, 5, 6], the output should be [1, 3, 5]."
      ],
      "metadata": {
        "id": "npmvH65PTgtI"
      }
    },
    {
      "cell_type": "code",
      "source": [
        "def extract_every_other(lst: list) -> list:\n",
        "    return lst[::2]\n",
        "\n",
        "def main():\n",
        "\n",
        "    try:\n",
        "        numbers = list(map(int, input(\"Enter a list of numbers separated by spaces: \").split()))\n",
        "        if not numbers:\n",
        "            print(\"Error: The list cannot be empty.\")\n",
        "            return\n",
        "        print(f\"Every Other Element: {extract_every_other(numbers)}\")\n",
        "    except ValueError:\n",
        "        print(\"Invalid input. Please enter numeric values only.\")\n",
        "\n",
        "if __name__ == \"__main__\":\n",
        "    main()\n"
      ],
      "metadata": {
        "colab": {
          "base_uri": "https://localhost:8080/"
        },
        "id": "_qWbCktCTkaa",
        "outputId": "d0e81d68-eb41-4933-bf95-5ba98221414a"
      },
      "execution_count": null,
      "outputs": [
        {
          "output_type": "stream",
          "name": "stdout",
          "text": [
            "Enter a list of numbers separated by spaces: 11 12 13 14 15\n",
            "Every Other Element: [11, 13, 15]\n"
          ]
        }
      ]
    },
    {
      "cell_type": "markdown",
      "source": [
        "2. Slice a Sublist:\n",
        "\n",
        "Write a Python function that returns a sublist from a given list, starting from a specified index and\n",
        "ending at another specified index.\n",
        "\n",
        "• Requirements:\n",
        "\n",
        "–Define a function get sublist(lst, start, end) that takes a list lst, a starting index\n",
        "start, and an ending index end as input and returns the sublist from start to end (inclusive).\n",
        "\n",
        "– Example: For the input [1, 2, 3, 4, 5, 6] with start=2 and end=4, the output should\n",
        "be [3, 4, 5].\n"
      ],
      "metadata": {
        "id": "CVlBPHsYVwD8"
      }
    },
    {
      "cell_type": "code",
      "source": [
        "def extract_every_other(lst: list) -> list:\n",
        "\n",
        "    return lst[::2]\n",
        "\n",
        "def get_sublist(lst: list, start: int, end: int) -> list:\n",
        "\n",
        "    return lst[start:end+1]\n",
        "\n",
        "def main():\n",
        "\n",
        "    try:\n",
        "        numbers = list(map(int, input(\"Enter a list of numbers separated by spaces: \").split()))\n",
        "        if not numbers:\n",
        "            print(\"Error: The list cannot be empty.\")\n",
        "            return\n",
        "\n",
        "        print(f\"Every Other Element: {extract_every_other(numbers)}\")\n",
        "\n",
        "        start = int(input(\"Enter start index for sublist: \"))\n",
        "        end = int(input(\"Enter end index for sublist: \"))\n",
        "        print(f\"Sublist: {get_sublist(numbers, start, end)}\")\n",
        "    except ValueError:\n",
        "        print(\"Invalid input. Please enter numeric values only.\")\n",
        "\n",
        "if __name__ == \"__main__\":\n",
        "    main()\n"
      ],
      "metadata": {
        "colab": {
          "base_uri": "https://localhost:8080/"
        },
        "id": "psEi7doIV8SN",
        "outputId": "6d510366-1ec8-4ead-a7c4-cdbd0cddbbf2"
      },
      "execution_count": null,
      "outputs": [
        {
          "output_type": "stream",
          "name": "stdout",
          "text": [
            "Enter a list of numbers separated by spaces: 11 12 13 14 15 16 17\n",
            "Every Other Element: [11, 13, 15, 17]\n",
            "Enter start index for sublist: 1\n",
            "Enter end index for sublist: 5\n",
            "Sublist: [12, 13, 14, 15, 16]\n"
          ]
        }
      ]
    },
    {
      "cell_type": "markdown",
      "source": [
        "3.Reverse a List Using Slicing:\n",
        "\n",
        "Write a Python function that reverses a list using slicing.\n",
        "\n",
        "• Requirements:\n",
        "\n",
        "– Define a function reverse list(lst) that takes a list lst and returns a reversed list using\n",
        "slicing.\n",
        "– Example: For the input [1, 2, 3, 4, 5], the output should be [5, 4, 3, 2, 1].\n"
      ],
      "metadata": {
        "id": "ibgV1QzyXPUh"
      }
    },
    {
      "cell_type": "code",
      "source": [
        "def reverse_list(lst: list) -> list:\n",
        "\n",
        "    return lst[::-1]\n",
        "\n",
        "def main():\n",
        "\n",
        "    try:\n",
        "        numbers = list(map(int, input(\"Enter a list of numbers separated by spaces: \").split()))\n",
        "        if not numbers:\n",
        "            print(\"Error: The list cannot be empty.\")\n",
        "            return\n",
        "\n",
        "        print(f\"Reversed List: {reverse_list(numbers)}\")\n",
        "    except ValueError:\n",
        "        print(\"Invalid input. Please enter numeric values only.\")\n",
        "\n",
        "if __name__ == \"__main__\":\n",
        "    main()\n"
      ],
      "metadata": {
        "colab": {
          "base_uri": "https://localhost:8080/"
        },
        "id": "BVtsQrBaXWO_",
        "outputId": "ab6d9199-5de8-444f-fb0f-37cf7f5ce34c"
      },
      "execution_count": null,
      "outputs": [
        {
          "output_type": "stream",
          "name": "stdout",
          "text": [
            "Enter a list of numbers separated by spaces: 11 12 13 14 15\n",
            "Reversed List: [15, 14, 13, 12, 11]\n"
          ]
        }
      ]
    },
    {
      "cell_type": "markdown",
      "source": [
        "4.Remove the First and Last Elements:\n",
        "\n",
        "Write a Python function that removes the first and last elements of a list and returns the resulting\n",
        "sublist.\n",
        "\n",
        "• Requirements:\n",
        "\n",
        "– Define a function remove first last(lst) that takes a list lst and returns a sublist without\n",
        "the first and last elements using slicing.\n",
        "– Example: For the input [1, 2, 3, 4, 5], the output should be [2, 3, 4]."
      ],
      "metadata": {
        "id": "3HAgKB9yYMge"
      }
    },
    {
      "cell_type": "code",
      "source": [
        "def remove_first_last(lst: list) -> list:\n",
        "\n",
        "    return lst[1:-1] if len(lst) > 2 else []\n",
        "\n",
        "def main():\n",
        "\n",
        "    try:\n",
        "        numbers = list(map(int, input(\"Enter a list of numbers separated by spaces: \").split()))\n",
        "        if not numbers:\n",
        "            print(\"Error: The list cannot be empty.\")\n",
        "            return\n",
        "\n",
        "        print(f\"List without first and last elements: {remove_first_last(numbers)}\")\n",
        "    except ValueError:\n",
        "        print(\"Invalid input. Please enter numeric values only.\")\n",
        "\n",
        "if __name__ == \"__main__\":\n",
        "    main()\n"
      ],
      "metadata": {
        "colab": {
          "base_uri": "https://localhost:8080/"
        },
        "id": "uggjVnQQYVgt",
        "outputId": "adba64f2-33fe-437f-9c24-1384161b03c9"
      },
      "execution_count": null,
      "outputs": [
        {
          "output_type": "stream",
          "name": "stdout",
          "text": [
            "Enter a list of numbers separated by spaces: 11 12 13 14 15 16\n",
            "List without first and last elements: [12, 13, 14, 15]\n"
          ]
        }
      ]
    },
    {
      "cell_type": "markdown",
      "source": [
        "5.Get the First n Elements:\n",
        "Write a Python function that extracts the first n elements from a list.\n",
        "\n",
        "• Requirements:\n",
        "\n",
        "– Define a function get first n(lst, n) that takes a list lst and an integer n as input and\n",
        "returns the first n elements of the list using slicing.\n",
        "\n",
        "– Example: For the input [1, 2, 3, 4, 5] with n=3, the output should be [1, 2, 3]."
      ],
      "metadata": {
        "id": "UTFVNJzdaDQp"
      }
    },
    {
      "cell_type": "code",
      "source": [
        "def get_first_n(lst: list, n: int) -> list:\n",
        "\n",
        "    return lst[:n] if n > 0 else []\n",
        "\n",
        "def main():\n",
        "    \"\"\"\n",
        "    Prompt user for a list of numbers and return modified sublists.\n",
        "    \"\"\"\n",
        "    try:\n",
        "        numbers = list(map(int, input(\"Enter a list of numbers separated by spaces: \").split()))\n",
        "        if not numbers:\n",
        "            print(\"Error: The list cannot be empty.\")\n",
        "            return\n",
        "\n",
        "        n = int(input(\"Enter the number of first elements to extract: \"))\n",
        "        print(f\"First {n} elements: {get_first_n(numbers, n)}\")\n",
        "    except ValueError:\n",
        "        print(\"Invalid input. Please enter numeric values only.\")\n",
        "\n",
        "if __name__ == \"__main__\":\n",
        "    main()"
      ],
      "metadata": {
        "colab": {
          "base_uri": "https://localhost:8080/"
        },
        "id": "UjCpJQ0-aIgN",
        "outputId": "446c27ef-c96b-4f71-ed67-55e5dea11b57"
      },
      "execution_count": null,
      "outputs": [
        {
          "output_type": "stream",
          "name": "stdout",
          "text": [
            "Enter a list of numbers separated by spaces: 10 11 13 14 15\n",
            "Enter the number of first elements to extract: 2\n",
            "First 2 elements: [10, 11]\n"
          ]
        }
      ]
    },
    {
      "cell_type": "markdown",
      "source": [
        "6.Extract Elements from the End:\n",
        "Write a Python function that extracts the last n elements of a list using slicing.\n",
        "\n",
        "• Requirements:\n",
        "\n",
        "– Define a function get last n(lst, n) that takes a list lst and an integer n as input and\n",
        "returns the last n elements of the list.\n",
        "– Example: For the input [1, 2, 3, 4, 5] with n=2, the output should be [4, 5]."
      ],
      "metadata": {
        "id": "HM0lrpPabL-u"
      }
    },
    {
      "cell_type": "code",
      "source": [
        "def get_last_n(lst: list, n: int) -> list:\n",
        "    return lst[-n:] if n > 0 else []\n",
        "\n",
        "def main():\n",
        "    try:\n",
        "        numbers = list(map(int, input(\"Enter a list of numbers separated by spaces: \").split()))\n",
        "        if not numbers:\n",
        "            print(\"Error: The list cannot be empty.\")\n",
        "            return\n",
        "\n",
        "        n = int(input(\"Enter the number of last elements to extract: \"))\n",
        "        print(f\"Last {n} elements: {get_last_n(numbers, n)}\")\n",
        "    except ValueError:\n",
        "        print(\"Invalid input. Please enter numeric values only.\")\n",
        "\n",
        "if __name__ == \"__main__\":\n",
        "    main()\n"
      ],
      "metadata": {
        "colab": {
          "base_uri": "https://localhost:8080/"
        },
        "id": "av7ljbCebXkt",
        "outputId": "84e69f0e-451b-4edc-f998-4f0aedcd72d5"
      },
      "execution_count": null,
      "outputs": [
        {
          "output_type": "stream",
          "name": "stdout",
          "text": [
            "Enter a list of numbers separated by spaces: 11 23 455 67\n",
            "Enter the number of last elements to extract: 3\n",
            "Last 3 elements: [23, 455, 67]\n"
          ]
        }
      ]
    },
    {
      "cell_type": "markdown",
      "source": [
        "7.Extract Elements in Reverse Order:\n",
        "\n",
        "Write a Python function that extracts a list of elements in reverse order starting from the second-to-last\n",
        "element and skipping one element in between.\n",
        "\n",
        "• Requirements:\n",
        "\n",
        "– Define a function reverse skip(lst) that takes a list lst and returns a new list containing\n",
        "every second element starting from the second-to-last, moving backward.\n",
        "\n",
        "– Example: For the input [1, 2, 3, 4, 5, 6], the output should be [5, 3, 1].\n"
      ],
      "metadata": {
        "id": "DfQ5OgCkbtqE"
      }
    },
    {
      "cell_type": "code",
      "source": [
        "def reverse_skip(lst: list) -> list:\n",
        "    return lst[-2::-2]\n",
        "\n",
        "def main():\n",
        "    try:\n",
        "        numbers = list(map(int, input(\"Enter a list of numbers separated by spaces: \").split()))\n",
        "        if not numbers:\n",
        "            print(\"Error: The list cannot be empty.\")\n",
        "            return\n",
        "\n",
        "        print(f\"Elements in reverse order (skipping one): {reverse_skip(numbers)}\")\n",
        "    except ValueError:\n",
        "        print(\"Invalid input. Please enter numeric values only.\")\n",
        "\n",
        "if __name__ == \"__main__\":\n",
        "    main()\n"
      ],
      "metadata": {
        "colab": {
          "base_uri": "https://localhost:8080/"
        },
        "id": "_bzk3Kw6b5NT",
        "outputId": "5c6c6064-a31a-4e2f-fd9a-58d3725bdfef"
      },
      "execution_count": null,
      "outputs": [
        {
          "output_type": "stream",
          "name": "stdout",
          "text": [
            "Enter a list of numbers separated by spaces: 11 23 12 13 14\n",
            "Elements in reverse order (skipping one): [13, 23]\n"
          ]
        }
      ]
    },
    {
      "cell_type": "markdown",
      "source": [
        "1.Flatten a Nested List:\n",
        "Write a Python function that takes a nested list and flattens it into a single list, where all the elements\n",
        "are in a single dimension.\n",
        "\n",
        "• Requirements:\n",
        "\n",
        "– Define a function flatten(lst) that takes a nested list lst and returns a flattened version\n",
        "of the list.\n",
        "– Example: For the input [[1, 2], [3, 4], [5]], the output should be [1, 2, 3, 4, 5].\n"
      ],
      "metadata": {
        "id": "__WCVb9KdINa"
      }
    },
    {
      "cell_type": "code",
      "source": [
        "def flatten(lst: list) -> list:\n",
        "    return [item for sublist in lst for item in sublist]\n",
        "\n",
        "def main():\n",
        "\n",
        "    try:\n",
        "        nested_list = eval(input(\"Enter a nested list (e.g., [[1,2],[3,4],[5]]): \"))\n",
        "        if not isinstance(nested_list, list) or not all(isinstance(sub, list) for sub in nested_list):\n",
        "            print(\"Error: Please enter a valid nested list.\")\n",
        "            return\n",
        "\n",
        "        print(f\"Flattened List: {flatten(nested_list)}\")\n",
        "    except Exception as e:\n",
        "        print(f\"Invalid input: {e}\")\n",
        "\n",
        "if __name__ == \"__main__\":\n",
        "    main()\n"
      ],
      "metadata": {
        "colab": {
          "base_uri": "https://localhost:8080/"
        },
        "id": "TQAGAD1ddL10",
        "outputId": "134a5076-8b1d-4b6d-8301-8beba410d4fa"
      },
      "execution_count": null,
      "outputs": [
        {
          "output_type": "stream",
          "name": "stdout",
          "text": [
            "Enter a nested list (e.g., [[1,2],[3,4],[5]]): [[1,2],[3,4],[5]]\n",
            "Flattened List: [1, 2, 3, 4, 5]\n"
          ]
        }
      ]
    },
    {
      "cell_type": "markdown",
      "source": [
        "2.Accessing Nested List Elements:\n",
        "\n",
        " Write a Python function that extracts a specific element from a nested list given its indices.\n",
        "\n",
        "\n",
        " • Requirements:\n",
        "\n",
        " – Define a function access nested\n",
        " element(lst, indices) that takes a nested list lst and\n",
        " a list of indices indices, and returns the element at that position.– Example: For the input lst = [[1, 2, 3], [4, 5, 6], [7, 8, 9]] with indices = [1,\n",
        " 2], the output should be 6."
      ],
      "metadata": {
        "id": "E7vB94C5Degx"
      }
    },
    {
      "cell_type": "code",
      "source": [
        "def access_nested_element(lst: list, indices: list) -> int:\n",
        "    try:\n",
        "        element = lst\n",
        "        for index in indices:\n",
        "            element = element[index]\n",
        "        return element\n",
        "    except (IndexError, TypeError):\n",
        "        return \"Error: Invalid indices or structure.\"\n",
        "\n",
        "def main():\n",
        "    try:\n",
        "        nested_list = eval(input(\"Enter a nested list (e.g., [[1,2,3],[4,5,6],[7,8,9]]): \"))\n",
        "        indices = list(map(int, input(\"Enter indices separated by spaces (e.g., 1 2): \").split()))\n",
        "\n",
        "        print(f\"Accessed Element: {access_nested_element(nested_list, indices)}\")\n",
        "    except Exception as e:\n",
        "        print(f\"Invalid input: {e}\")\n",
        "\n",
        "if __name__ == \"__main__\":\n",
        "    main()\n"
      ],
      "metadata": {
        "colab": {
          "base_uri": "https://localhost:8080/"
        },
        "id": "r9OXRJR9Ec7u",
        "outputId": "6415fc69-b3ac-4c96-8c47-66944d8ecfce"
      },
      "execution_count": null,
      "outputs": [
        {
          "output_type": "stream",
          "name": "stdout",
          "text": [
            "Enter a nested list (e.g., [[1,2,3],[4,5,6],[7,8,9]]): [[1,2,3],[4,5,6],[7,8,9]]\n",
            "Enter indices separated by spaces (e.g., 1 2): 1 2\n",
            "Accessed Element: 6\n"
          ]
        }
      ]
    },
    {
      "cell_type": "markdown",
      "source": [
        " 3. Sum of All Elements in a Nested List:\n",
        "\n",
        " Write a Python function that calculates the sum of all the numbers in a nested list (regardless of depth).\n",
        "\n",
        " • Requirements:\n",
        "\n",
        " – Define a function sum\n",
        " nested(lst) that takes a nested list lst and returns the sum of all\n",
        " the elements.\n",
        "\n",
        " – Example: For the input [[1, 2], [3, [4, 5]], 6], the output should be 21."
      ],
      "metadata": {
        "id": "756qaoh_IZyh"
      }
    },
    {
      "cell_type": "code",
      "source": [
        "def sum_nested(lst: list) -> int:\n",
        "    total = 0\n",
        "    for item in lst:\n",
        "        if isinstance(item, list):\n",
        "            total += sum_nested(item)  # Recursively sum nested lists\n",
        "        else:\n",
        "            total += item  # Add number to total\n",
        "    return total\n",
        "\n",
        "def main():\n",
        "    try:\n",
        "        nested_list = eval(input(\"Enter a nested list (e.g., [[1,2],[3,[4,5]],6]): \"))\n",
        "        print(f\"Sum of all elements: {sum_nested(nested_list)}\")\n",
        "    except Exception as e:\n",
        "        print(f\"Invalid input: {e}\")\n",
        "\n",
        "if __name__ == \"__main__\":\n",
        "    main()\n"
      ],
      "metadata": {
        "colab": {
          "base_uri": "https://localhost:8080/"
        },
        "id": "Nfmzd9PcIrm1",
        "outputId": "e8f87f79-c159-4c61-b194-480f12f48e65"
      },
      "execution_count": null,
      "outputs": [
        {
          "output_type": "stream",
          "name": "stdout",
          "text": [
            "Enter a nested list (e.g., [[1,2],[3,[4,5]],6]): [[1,2],[3,[4,5]],6]\n",
            "Sum of all elements: 21\n"
          ]
        }
      ]
    },
    {
      "cell_type": "markdown",
      "source": [
        "4.Remove Specific Element from a Nested List:\n",
        "\n",
        " Write a Python function that removes all occurrences of a specific element from a nested list.\n",
        "\n",
        " • Requirements:\n",
        "\n",
        " – Define a function remove\n",
        " element(lst, elem) that removes elem from lst and returns the\n",
        " modified list.\n",
        "\n",
        " – Example: Fortheinput lst = [[1, 2], [3, 2], [4, 5]]andelem = 2,theoutputshould\n",
        " be [[1], [3], [4, 5]]."
      ],
      "metadata": {
        "id": "VWA4EKDZLhHS"
      }
    },
    {
      "cell_type": "code",
      "source": [
        "def remove_element(lst: list, elem: int) -> list:\n",
        "    result = []\n",
        "    for item in lst:\n",
        "        if isinstance(item, list):\n",
        "            result.append(remove_element(item, elem))  # Recursively process nested lists\n",
        "        elif item != elem:\n",
        "            result.append(item)  # Add non-matching elements\n",
        "    return result\n",
        "\n",
        "def main():\n",
        "    try:\n",
        "        nested_list = eval(input(\"Enter a nested list (e.g., [[1,2],[3,2],[4,5]]): \"))\n",
        "        elem = int(input(\"Enter the element to remove: \"))\n",
        "        print(f\"Modified List: {remove_element(nested_list, elem)}\")\n",
        "    except Exception as e:\n",
        "        print(f\"Invalid input: {e}\")\n",
        "\n",
        "if __name__ == \"__main__\":\n",
        "    main()\n"
      ],
      "metadata": {
        "colab": {
          "base_uri": "https://localhost:8080/"
        },
        "id": "Ki4RxE_qL_Jc",
        "outputId": "c8508c41-5d64-4d88-c29b-bf3de0391439"
      },
      "execution_count": null,
      "outputs": [
        {
          "output_type": "stream",
          "name": "stdout",
          "text": [
            "Enter a nested list (e.g., [[1,2],[3,2],[4,5]]): [[1,2],[3,2],[4,5],7]\n",
            "Enter the element to remove: 1\n",
            "Modified List: [[2], [3, 2], [4, 5], 7]\n"
          ]
        }
      ]
    },
    {
      "cell_type": "markdown",
      "source": [
        " 5. Find the Maximum Element in a Nested List:\n",
        "\n",
        " Write a Python function that finds the maximum element in a nested list (regardless of depth).\n",
        "\n",
        " • Requirements:\n",
        "\n",
        " – Define a function find\n",
        " element.\n",
        " max(lst) that takes a nested list lst and returns the maximum\n",
        " – Example: For the input [[1, 2], [3, [4, 5]], 6], the output should be 6."
      ],
      "metadata": {
        "id": "usZBnha_N_Xj"
      }
    },
    {
      "cell_type": "code",
      "source": [
        "def find_max_element(lst: list) -> int:\n",
        "    max_value = float('-inf')\n",
        "    for item in lst:\n",
        "        if isinstance(item, list):\n",
        "            max_value = max(max_value, find_max_element(item))  # Recursively find max in nested lists\n",
        "        else:\n",
        "            max_value = max(max_value, item)  # Compare numbers directly\n",
        "    return max_value\n",
        "\n",
        "def main():\n",
        "    try:\n",
        "        nested_list = eval(input(\"Enter a nested list (e.g., [[1,2],[3,[4,5]],6]): \"))\n",
        "        print(f\"Maximum Element: {find_max_element(nested_list)}\")\n",
        "    except Exception as e:\n",
        "        print(f\"Invalid input: {e}\")\n",
        "\n",
        "if __name__ == \"__main__\":\n",
        "    main()\n"
      ],
      "metadata": {
        "colab": {
          "base_uri": "https://localhost:8080/"
        },
        "id": "BZu5W5VSPY0b",
        "outputId": "ddfcb0a6-af40-4ad8-97a0-8acd29d884d2"
      },
      "execution_count": null,
      "outputs": [
        {
          "output_type": "stream",
          "name": "stdout",
          "text": [
            "Enter a nested list (e.g., [[1,2],[3,[4,5]],6]): [[1,2],[3,[4,5]],6]\n",
            "Maximum Element: 6\n"
          ]
        }
      ]
    },
    {
      "cell_type": "markdown",
      "source": [
        " 6. Count Occurrences of an Element in a Nested List:\n",
        "\n",
        " Write a Python function that counts how many times a specific element appears in a nested list.\n",
        "\n",
        " • Requirements:\n",
        "\n",
        " – Define a function count\n",
        "occurrences(lst, elem) that counts the occurrences of elem in\n",
        " the nested list lst.– Example: Fortheinput lst = [[1, 2], [2, 3], [2, 4]]andelem = 2,theoutputshould\n",
        " be 3."
      ],
      "metadata": {
        "id": "OPjhEVVNQGd3"
      }
    },
    {
      "cell_type": "code",
      "source": [
        "def count_occurrences(lst: list, elem: int) -> int:\n",
        "\n",
        "    count = 0\n",
        "    for item in lst:\n",
        "        if isinstance(item, list):\n",
        "            count += count_occurrences(item, elem)  # Recursively count occurrences in nested lists\n",
        "        elif item == elem:\n",
        "            count += 1  # Increment count if element matches\n",
        "    return count\n",
        "\n",
        "def main():\n",
        "    try:\n",
        "        nested_list = eval(input(\"Enter a nested list (e.g., [[1,2],[2,3],[2,4]]): \"))\n",
        "        elem = int(input(\"Enter the element to count: \"))\n",
        "        print(f\"Occurrences of {elem}: {count_occurrences(nested_list, elem)}\")\n",
        "    except Exception as e:\n",
        "        print(f\"Invalid input: {e}\")\n",
        "\n",
        "if __name__ == \"__main__\":\n",
        "    main()\n"
      ],
      "metadata": {
        "colab": {
          "base_uri": "https://localhost:8080/"
        },
        "id": "jB54zrkZSbKP",
        "outputId": "fd58f7ff-58d7-4347-b9fb-5eb49f45c6d2"
      },
      "execution_count": null,
      "outputs": [
        {
          "output_type": "stream",
          "name": "stdout",
          "text": [
            "Enter a nested list (e.g., [[1,2],[2,3],[2,4]]): [[1,2],[2,3],[2,4]]\n",
            "Enter the element to count: 5\n",
            "Occurrences of 5: 0\n"
          ]
        }
      ]
    },
    {
      "cell_type": "markdown",
      "source": [
        " 7. Flatten a List of Lists of Lists:\n",
        " Write a Python function that flattens a list of lists of lists into a single list, regardless of the depth.\n",
        "\n",
        " • Requirements:\n",
        "\n",
        " – Define a function deep\n",
        " flatten(lst) that takes a deeply nested list lst and returns a single\n",
        " flattened list.\n",
        "\n",
        " – Example: For the input [[[1, 2], [3, 4]], [[5, 6], [7, 8]]], the output should be\n",
        " [1, 2, 3, 4, 5, 6, 7, 8]."
      ],
      "metadata": {
        "id": "vBEoigOUTrI_"
      }
    },
    {
      "cell_type": "code",
      "source": [
        "def deep_flatten(lst: list) -> list:\n",
        "    result = []\n",
        "    for item in lst:\n",
        "        if isinstance(item, list):\n",
        "            result.extend(deep_flatten(item))  # Recursively flatten nested lists\n",
        "        else:\n",
        "            result.append(item)  # Add non-list elements directly\n",
        "    return result\n",
        "\n",
        "def main():\n",
        "    try:\n",
        "        nested_list = eval(input(\"Enter a deeply nested list (e.g., [[[1,2],[3,4]],[[5,6],[7,8]]]): \"))\n",
        "        print(f\"Flattened List: {deep_flatten(nested_list)}\")\n",
        "    except Exception as e:\n",
        "        print(f\"Invalid input: {e}\")\n",
        "\n",
        "if __name__ == \"__main__\":\n",
        "    main()\n"
      ],
      "metadata": {
        "colab": {
          "base_uri": "https://localhost:8080/"
        },
        "id": "L9ew991WUHRf",
        "outputId": "b88c171c-1594-447a-9d38-d1d682e14ca7"
      },
      "execution_count": null,
      "outputs": [
        {
          "output_type": "stream",
          "name": "stdout",
          "text": [
            "Enter a deeply nested list (e.g., [[[1,2],[3,4]],[[5,6],[7,8]]]): [[[1,2],[3,4]],[[5,6],[7,8]]]\n",
            "Flattened List: [1, 2, 3, 4, 5, 6, 7, 8]\n"
          ]
        }
      ]
    },
    {
      "cell_type": "markdown",
      "source": [
        " 8. Nested List Average:\n",
        " Write a Python function that calculates the average of all elements in a nested list.\n",
        "\n",
        " • Requirements:\n",
        "\n",
        " – Define a function average\n",
        " of all the elements.\n",
        " nested(lst) that takes a nested list lst and returns the average\n",
        "\n",
        " – Example: For the input [[1, 2], [3, 4], [5, 6]], the output should be"
      ],
      "metadata": {
        "id": "ibWGS4X2U1ik"
      }
    },
    {
      "cell_type": "code",
      "source": [
        "def nested_average(lst: list) -> float:\n",
        "    def flatten(lst):\n",
        "        result = []\n",
        "        for item in lst:\n",
        "            if isinstance(item, list):\n",
        "                result.extend(flatten(item))  # Recursively flatten nested lists\n",
        "            else:\n",
        "                result.append(item)  # Add non-list elements directly\n",
        "        return result\n",
        "\n",
        "    flat_list = flatten(lst)  # Flatten the list first\n",
        "    return sum(flat_list) / len(flat_list) if flat_list else 0\n",
        "\n",
        "def main():\n",
        "    try:\n",
        "        nested_list = eval(input(\"Enter a deeply nested list (e.g., [[[1,2],[3,4]],[[5,6],[7,8]]]): \"))\n",
        "        print(f\"Average of Elements: {nested_average(nested_list)}\")\n",
        "    except Exception as e:\n",
        "        print(f\"Invalid input: {e}\")\n",
        "\n",
        "if __name__ == \"__main__\":\n",
        "    main()\n"
      ],
      "metadata": {
        "colab": {
          "base_uri": "https://localhost:8080/"
        },
        "id": "CyT3-SqFU9G4",
        "outputId": "e71ec468-68b7-403e-a8b9-c9e8afe1124e"
      },
      "execution_count": null,
      "outputs": [
        {
          "output_type": "stream",
          "name": "stdout",
          "text": [
            "Enter a deeply nested list (e.g., [[[1,2],[3,4]],[[5,6],[7,8]]]): [[[1,2],[3,4]],[[5,6],[7,8]]]\n",
            "Average of Elements: 4.5\n"
          ]
        }
      ]
    },
    {
      "cell_type": "markdown",
      "source": [
        " Problem- 1: Array Creation:\n",
        " Complete the following Tasks:\n",
        " 1. Initialize an empty array with size 2X2.\n",
        " 2. Initialize an all one array with size 4X2.\n",
        " 3. Return a new array of given shape and type, filled with fill value.{Hint: np.full}\n",
        " 4. Return a new array of zeros with same shape and type as a given array.{Hint: np.zeros like}\n",
        " 5. Return a new array of ones with same shape and type as a given array.{Hint: np.ones like}\n",
        " 6. For an existing list new_list = [1,2,3,4] convert to an numpy array.{Hint: np.array()}\n",
        ""
      ],
      "metadata": {
        "id": "ANbhkJxIqKnj"
      }
    },
    {
      "cell_type": "code",
      "source": [
        "import numpy as np\n",
        "\n",
        "def array_operations():\n",
        "    \"\"\"\n",
        "    Perform basic array creation tasks using NumPy.\n",
        "    \"\"\"\n",
        "    # 1. Initialize an empty array with size 2x2\n",
        "    empty_array = np.empty((2, 2))\n",
        "    print(\"Empty 2x2 Array:\\n\", empty_array)\n",
        "\n",
        "    # 2. Initialize an all-ones array with size 4x2\n",
        "    ones_array = np.ones((4, 2))\n",
        "    print(\"All Ones 4x2 Array:\\n\", ones_array)\n",
        "\n",
        "    # 3. Return a new array of given shape and type, filled with fill value\n",
        "    fill_value_array = np.full((3, 3), 7)  # Example: Filling with 7\n",
        "    print(\"Filled 3x3 Array:\\n\", fill_value_array)\n",
        "\n",
        "    # 4. Return a new array of zeros with same shape and type as a given array\n",
        "    reference_array = np.array([[1, 2, 3], [4, 5, 6]])\n",
        "    zeros_like_array = np.zeros_like(reference_array)\n",
        "    print(\"Zeros Like Given Array:\\n\", zeros_like_array)\n",
        "\n",
        "    # 5. Return a new array of ones with same shape and type as a given array\n",
        "    ones_like_array = np.ones_like(reference_array)\n",
        "    print(\"Ones Like Given Array:\\n\", ones_like_array)\n",
        "\n",
        "    # 6. Convert an existing list to a NumPy array\n",
        "    new_list = [1, 2, 3, 4]\n",
        "    numpy_array = np.array(new_list)\n",
        "    print(\"Converted NumPy Array:\\n\", numpy_array)\n",
        "\n",
        "def main():\n",
        "    \"\"\"\n",
        "    Execute array operations.\n",
        "    \"\"\"\n",
        "    array_operations()\n",
        "\n",
        "if __name__ == \"__main__\":\n",
        "    main()\n"
      ],
      "metadata": {
        "colab": {
          "base_uri": "https://localhost:8080/"
        },
        "id": "uk_KIYzDqQj2",
        "outputId": "b7606944-7ace-41e5-9c43-64d9aae32c38"
      },
      "execution_count": 12,
      "outputs": [
        {
          "output_type": "stream",
          "name": "stdout",
          "text": [
            "Empty 2x2 Array:\n",
            " [[2.26036392e-316 0.00000000e+000]\n",
            " [0.00000000e+000 2.44029516e-312]]\n",
            "All Ones 4x2 Array:\n",
            " [[1. 1.]\n",
            " [1. 1.]\n",
            " [1. 1.]\n",
            " [1. 1.]]\n",
            "Filled 3x3 Array:\n",
            " [[7 7 7]\n",
            " [7 7 7]\n",
            " [7 7 7]]\n",
            "Zeros Like Given Array:\n",
            " [[0 0 0]\n",
            " [0 0 0]]\n",
            "Ones Like Given Array:\n",
            " [[1 1 1]\n",
            " [1 1 1]]\n",
            "Converted NumPy Array:\n",
            " [1 2 3 4]\n"
          ]
        }
      ]
    },
    {
      "cell_type": "markdown",
      "source": [
        "Problem- 2: Array Manipulation: Numerical Ranges and Array indexing:\n",
        " Complete the following tasks:\n",
        " 1. Create an array with values ranging from 10 to 49. {Hint:np.arrange()}.\n",
        " 2. Create a 3X3 matrix with values ranging from 0 to 8.\n",
        " {Hint:look for np.reshape()}\n",
        " 3. Create a 3X3 identity matrix.{Hint:np.eye()}\n",
        " 4. Create a random array of size 30 and find the mean of the array.\n",
        " {Hint:check for np.random.random() and array.mean() function}\n",
        " 5. Create a 10X10 array with random values and find the minimum and maximum values.\n",
        " 6. Create a zero array of size 10 and replace 5th element with 1.\n",
        " 7. Reverse an array arr = [1,2,0,0,4,0].\n",
        " 8. Create a 2d array with 1 on border and 0 inside.\n",
        " 9. Create a 8X8 matrix and fill it with a checkerboard pattern."
      ],
      "metadata": {
        "id": "qvyIxS9DqZuK"
      }
    },
    {
      "cell_type": "code",
      "source": [
        "\n",
        "def array_manipulation():\n",
        "    # 1. Create an array with values ranging from 10 to 49\n",
        "    range_array = np.arange(10, 50)\n",
        "    print(\"Array with values from 10 to 49:\\n\", range_array)\n",
        "\n",
        "    # 2. Create a 3x3 matrix with values ranging from 0 to 8\n",
        "    reshaped_matrix = np.arange(9).reshape(3, 3)\n",
        "    print(\"3x3 Matrix with values from 0 to 8:\\n\", reshaped_matrix)\n",
        "\n",
        "    # 3. Create a 3x3 identity matrix\n",
        "    identity_matrix = np.eye(3)\n",
        "    print(\"3x3 Identity Matrix:\\n\", identity_matrix)\n",
        "\n",
        "    # 4. Create a random array of size 30 and find the mean\n",
        "    random_array = np.random.random(30)\n",
        "    mean_value = random_array.mean()\n",
        "    print(\"Mean of Random Array:\\n\", mean_value)\n",
        "\n",
        "    # 5. Create a 10x10 array with random values and find min/max values\n",
        "    random_matrix = np.random.random((10, 10))\n",
        "    min_value = random_matrix.min()\n",
        "    max_value = random_matrix.max()\n",
        "    print(\"Min Value of 10x10 Random Matrix:\\n\", min_value)\n",
        "    print(\"Max Value of 10x10 Random Matrix:\\n\", max_value)\n",
        "\n",
        "    # 6. Create a zero array of size 10 and replace the 5th element with 1\n",
        "    zero_array = np.zeros(10)\n",
        "    zero_array[4] = 1\n",
        "    print(\"Zero Array with 5th Element as 1:\\n\", zero_array)\n",
        "\n",
        "    # 7. Reverse an array\n",
        "    arr = np.array([1, 2, 0, 0, 4, 0])\n",
        "    reversed_arr = arr[::-1]\n",
        "    print(\"Reversed Array:\\n\", reversed_arr)\n",
        "\n",
        "    # 8. Create a 2D array with 1 on the border and 0 inside\n",
        "    border_array = np.ones((5, 5))\n",
        "    border_array[1:-1, 1:-1] = 0\n",
        "    print(\"2D Array with 1 on Border and 0 Inside:\\n\", border_array)\n",
        "\n",
        "    # 9. Create an 8x8 matrix and fill it with a checkerboard pattern\n",
        "    checkerboard = np.zeros((8, 8), dtype=int)\n",
        "    checkerboard[1::2, ::2] = 1\n",
        "    checkerboard[::2, 1::2] = 1\n",
        "    print(\"8x8 Checkerboard Pattern:\\n\", checkerboard)\n",
        "\n",
        "def main():\n",
        "    array_manipulation()\n",
        "\n",
        "if __name__ == \"__main__\":\n",
        "    main()\n"
      ],
      "metadata": {
        "colab": {
          "base_uri": "https://localhost:8080/"
        },
        "id": "79b9PCmsqlc9",
        "outputId": "371c8ac9-9f38-4e92-cb44-8d5d997bd25f"
      },
      "execution_count": 13,
      "outputs": [
        {
          "output_type": "stream",
          "name": "stdout",
          "text": [
            "Array with values from 10 to 49:\n",
            " [10 11 12 13 14 15 16 17 18 19 20 21 22 23 24 25 26 27 28 29 30 31 32 33\n",
            " 34 35 36 37 38 39 40 41 42 43 44 45 46 47 48 49]\n",
            "3x3 Matrix with values from 0 to 8:\n",
            " [[0 1 2]\n",
            " [3 4 5]\n",
            " [6 7 8]]\n",
            "3x3 Identity Matrix:\n",
            " [[1. 0. 0.]\n",
            " [0. 1. 0.]\n",
            " [0. 0. 1.]]\n",
            "Mean of Random Array:\n",
            " 0.45885472747424566\n",
            "Min Value of 10x10 Random Matrix:\n",
            " 0.01618951533943125\n",
            "Max Value of 10x10 Random Matrix:\n",
            " 0.9826494495461593\n",
            "Zero Array with 5th Element as 1:\n",
            " [0. 0. 0. 0. 1. 0. 0. 0. 0. 0.]\n",
            "Reversed Array:\n",
            " [0 4 0 0 2 1]\n",
            "2D Array with 1 on Border and 0 Inside:\n",
            " [[1. 1. 1. 1. 1.]\n",
            " [1. 0. 0. 0. 1.]\n",
            " [1. 0. 0. 0. 1.]\n",
            " [1. 0. 0. 0. 1.]\n",
            " [1. 1. 1. 1. 1.]]\n",
            "8x8 Checkerboard Pattern:\n",
            " [[0 1 0 1 0 1 0 1]\n",
            " [1 0 1 0 1 0 1 0]\n",
            " [0 1 0 1 0 1 0 1]\n",
            " [1 0 1 0 1 0 1 0]\n",
            " [0 1 0 1 0 1 0 1]\n",
            " [1 0 1 0 1 0 1 0]\n",
            " [0 1 0 1 0 1 0 1]\n",
            " [1 0 1 0 1 0 1 0]]\n"
          ]
        }
      ]
    },
    {
      "cell_type": "markdown",
      "source": [
        "Problem- 3: Array Operations:\n",
        "\n",
        " For the following arrays:\n",
        "\n",
        " x = np.array([[1,2],[3,5]]) and y = np.array([[5,6],[7,8]]);\n",
        "\n",
        " v = np.array([9,10]) and w = np.array([11,12]);\n",
        "\n",
        " Complete all the task using numpy:\n",
        " 1. Add the two array.\n",
        " 2. Subtract the two array.\n",
        " 3. Multiply the array with any integers of your choice.\n",
        " 4. Find the square of each element of the array.\n",
        " 5. Find the dot product between: v(and)w ; x(and)v ; x(and)y.\n",
        " 6. Concatenate x(and)y along row and Concatenate v(and)w along column.\n",
        " {Hint:try np.concatenate() or np.vstack() functions.\n",
        " 7. Concatenate x(and)v; if you get an error, observe and explain why did you get the error?"
      ],
      "metadata": {
        "id": "PQFt40hirjOt"
      }
    },
    {
      "cell_type": "code",
      "source": [
        "\n",
        "def array_operations():\n",
        "    x = np.array([[1, 2], [3, 5]])\n",
        "    y = np.array([[5, 6], [7, 8]])\n",
        "    v = np.array([9, 10])\n",
        "    w = np.array([11, 12])\n",
        "\n",
        "    # 1. Add the two arrays\n",
        "    addition = x + y\n",
        "    print(\"Addition of x and y:\\n\", addition)\n",
        "\n",
        "    # 2. Subtract the two arrays\n",
        "    subtraction = x - y\n",
        "    print(\"Subtraction of x and y:\\n\", subtraction)\n",
        "\n",
        "    # 3. Multiply the array with any integer (e.g., 3)\n",
        "    multiplied_array = x * 3\n",
        "    print(\"Multiplication of x by 3:\\n\", multiplied_array)\n",
        "\n",
        "    # 4. Find the square of each element of the array\n",
        "    squared_array = x ** 2\n",
        "    print(\"Square of each element in x:\\n\", squared_array)\n",
        "\n",
        "    # 5. Find the dot product\n",
        "    dot_vw = np.dot(v, w)\n",
        "    dot_xv = np.dot(x, v)\n",
        "    dot_xy = np.dot(x, y)\n",
        "    print(\"Dot product of v and w:\\n\", dot_vw)\n",
        "    print(\"Dot product of x and v:\\n\", dot_xv)\n",
        "    print(\"Dot product of x and y:\\n\", dot_xy)\n",
        "\n",
        "    # 6. Concatenate x and y along rows, and v and w along columns\n",
        "    concat_xy = np.concatenate((x, y), axis=0)\n",
        "    concat_vw = np.column_stack((v, w))\n",
        "    print(\"Concatenation of x and y along rows:\\n\", concat_xy)\n",
        "    print(\"Concatenation of v and w along columns:\\n\", concat_vw)\n",
        "\n",
        "    # 7. Attempt to concatenate x and v; observe the error\n",
        "    try:\n",
        "        concat_xv = np.concatenate((x, v), axis=0)\n",
        "        print(\"Concatenation of x and v:\\n\", concat_xv)\n",
        "    except ValueError as e:\n",
        "        print(\"Error while concatenating x and v:\\n\", e)\n",
        "\n",
        "def main():\n",
        "    \"\"\"\n",
        "    Execute array operations.\n",
        "    \"\"\"\n",
        "    array_operations()\n",
        "\n",
        "if __name__ == \"__main__\":\n",
        "    main()\n"
      ],
      "metadata": {
        "colab": {
          "base_uri": "https://localhost:8080/"
        },
        "id": "6-ieXldfr4cj",
        "outputId": "bff2bcbc-1d7f-4190-ae9f-06c3e47060ba"
      },
      "execution_count": 14,
      "outputs": [
        {
          "output_type": "stream",
          "name": "stdout",
          "text": [
            "Addition of x and y:\n",
            " [[ 6  8]\n",
            " [10 13]]\n",
            "Subtraction of x and y:\n",
            " [[-4 -4]\n",
            " [-4 -3]]\n",
            "Multiplication of x by 3:\n",
            " [[ 3  6]\n",
            " [ 9 15]]\n",
            "Square of each element in x:\n",
            " [[ 1  4]\n",
            " [ 9 25]]\n",
            "Dot product of v and w:\n",
            " 219\n",
            "Dot product of x and v:\n",
            " [29 77]\n",
            "Dot product of x and y:\n",
            " [[19 22]\n",
            " [50 58]]\n",
            "Concatenation of x and y along rows:\n",
            " [[1 2]\n",
            " [3 5]\n",
            " [5 6]\n",
            " [7 8]]\n",
            "Concatenation of v and w along columns:\n",
            " [[ 9 11]\n",
            " [10 12]]\n",
            "Error while concatenating x and v:\n",
            " all the input arrays must have same number of dimensions, but the array at index 0 has 2 dimension(s) and the array at index 1 has 1 dimension(s)\n"
          ]
        }
      ]
    },
    {
      "cell_type": "markdown",
      "source": [
        "Problem- 4: Matrix Operations:\n",
        "\n",
        " • For the following arrays:\n",
        "\n",
        " A = np.array([[3,4],[7,8]]) and B = np.array([[5,3],[2,1]]);\n",
        "\n",
        " Prove following with Numpy:\n",
        "\n",
        " 1. Prove A.A−1 = I.\n",
        " 2. Prove AB= BA.\n",
        " 3. Prove (AB)T = BTAT.\n",
        " • Solve the following system of Linear equation using Inverse Methods.\n",
        "\n",
        " 2x −3y+z =−1\n",
        "\n",
        " x −y+2z =−3\n",
        "\n",
        " 3x +y−z =9\n",
        "\n",
        " {Hint: First use Numpy array to represent the equation in Matrix form. Then Solve for: AX = B}\n",
        "\n",
        " • Now: solve the above equation using np.linalg.inv function.{Explore more about ”linalg” func\n",
        "tion of Numpy}"
      ],
      "metadata": {
        "id": "yelz0Zl4tB9o"
      }
    },
    {
      "cell_type": "code",
      "source": [
        "import numpy as np\n",
        "\n",
        "def matrix_operations():\n",
        "    \"\"\"\n",
        "    Perform matrix operations using NumPy.\n",
        "    \"\"\"\n",
        "    A = np.array([[3, 4], [7, 8]])\n",
        "    B = np.array([[5, 3], [2, 1]])\n",
        "\n",
        "    # 1. Prove A * A⁻¹ = I\n",
        "    A_inv = np.linalg.inv(A)\n",
        "    identity_matrix = np.dot(A, A_inv)\n",
        "    print(\"A * A⁻¹ (Should be Identity Matrix):\\n\", np.round(identity_matrix, decimals=6))\n",
        "\n",
        "    # 2. Prove AB = BA\n",
        "    AB = np.dot(A, B)\n",
        "    BA = np.dot(B, A)\n",
        "    print(\"AB:\\n\", AB)\n",
        "    print(\"BA:\\n\", BA)\n",
        "    print(\"Is AB equal to BA?\", np.allclose(AB, BA))\n",
        "\n",
        "    # 3. Prove (AB)ᵀ = Bᵀ Aᵀ\n",
        "    AB_T = np.transpose(AB)\n",
        "    BT_AT = np.dot(np.transpose(B), np.transpose(A))\n",
        "    print(\"(AB)ᵀ:\\n\", AB_T)\n",
        "    print(\"Bᵀ Aᵀ:\\n\", BT_AT)\n",
        "    print(\"Is (AB)ᵀ equal to Bᵀ Aᵀ?\", np.allclose(AB_T, BT_AT))\n",
        "\n",
        "    # Solve system of equations using inverse method\n",
        "    A_eq = np.array([[2, -3, 1], [1, -1, 2], [3, 1, -1]])\n",
        "    B_eq = np.array([-1, -3, 9])\n",
        "    X = np.linalg.inv(A_eq).dot(B_eq)\n",
        "    print(\"Solution of the system (AX = B):\\n\", X)\n",
        "\n",
        "    # Solve using np.linalg.solve (recommended method)\n",
        "    X_solve = np.linalg.solve(A_eq, B_eq)\n",
        "    print(\"Solution using np.linalg.solve:\\n\", X_solve)\n",
        "\n",
        "def main():\n",
        "    matrix_operations()\n",
        "\n",
        "if __name__ == \"__main__\":\n",
        "    main()\n"
      ],
      "metadata": {
        "colab": {
          "base_uri": "https://localhost:8080/"
        },
        "id": "zhs1OPCCtvDD",
        "outputId": "ad7da219-6d67-4d88-d8d2-b6ca52c434fb"
      },
      "execution_count": 15,
      "outputs": [
        {
          "output_type": "stream",
          "name": "stdout",
          "text": [
            "A * A⁻¹ (Should be Identity Matrix):\n",
            " [[1. 0.]\n",
            " [0. 1.]]\n",
            "AB:\n",
            " [[23 13]\n",
            " [51 29]]\n",
            "BA:\n",
            " [[36 44]\n",
            " [13 16]]\n",
            "Is AB equal to BA? False\n",
            "(AB)ᵀ:\n",
            " [[23 51]\n",
            " [13 29]]\n",
            "Bᵀ Aᵀ:\n",
            " [[23 51]\n",
            " [13 29]]\n",
            "Is (AB)ᵀ equal to Bᵀ Aᵀ? True\n",
            "Solution of the system (AX = B):\n",
            " [ 2.  1. -2.]\n",
            "Solution using np.linalg.solve:\n",
            " [ 2.  1. -2.]\n"
          ]
        }
      ]
    }
  ]
}